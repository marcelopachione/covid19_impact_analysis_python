{
  "cells": [
    {
      "cell_type": "markdown",
      "metadata": {
        "id": "3r4Ne3hsXxZy"
      },
      "source": [
        "# **Covid-19 Analise de Impactos utilizando Python** (Caso de estudo)\n",
        "\n",
        "---\n",
        "\n"
      ]
    },
    {
      "cell_type": "markdown",
      "metadata": {
        "id": "XXLYU_MGYqfZ"
      },
      "source": [
        "A primeira onda de covid-19 impactou a economia global, pois o mundo nunca esteve pronto para a pandemia. Isso resultou em aumento de casos, aumento de mortes, aumento do desemprego e aumento da pobreza, resultando em uma desaceleração econômica. Aqui, você é obrigado a analisar a disseminação dos casos de Covid-19 e todos os impactos da covid-19 na economia.\n",
        "\n",
        "O conjunto de dados que estamos usando para analisar os impactos da covid-19 é baixado do Kaggle. Contém dados sobre:\n",
        "\n",
        "1.   O código do país\n",
        "2.   Nome de todos os países\n",
        "3.   Data do registro\n",
        "4.   Índice de desenvolvimento humano de todos os países\n",
        "5.   Casos diários de covid-19\n",
        "6.   Mortes diárias por covid-19\n",
        "7.   Índice de rigor dos países\n",
        "8.   A população dos países\n",
        "9.   PIB per capita dos países\n",
        "\n",
        "Link para download do dataset: [covid-19](https://www.kaggle.com/datasets/shashwatwork/impact-of-covid19-pandemic-on-the-global-economy)"
      ]
    }
  ],
  "metadata": {
    "colab": {
      "authorship_tag": "ABX9TyPNfehiH4a+F58364B4B0aF",
      "mount_file_id": "18IaViNIoJcb6UADxaAcAoWaA7VPltYe3",
      "provenance": []
    },
    "kernelspec": {
      "display_name": "Python 3",
      "name": "python3"
    },
    "language_info": {
      "codemirror_mode": {
        "name": "ipython",
        "version": 3
      },
      "file_extension": ".py",
      "mimetype": "text/x-python",
      "name": "python",
      "nbconvert_exporter": "python",
      "pygments_lexer": "ipython3",
      "version": "3.11.2"
    }
  },
  "nbformat": 4,
  "nbformat_minor": 0
}
